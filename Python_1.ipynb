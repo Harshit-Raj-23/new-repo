{
  "nbformat": 4,
  "nbformat_minor": 0,
  "metadata": {
    "colab": {
      "provenance": [],
      "authorship_tag": "ABX9TyN8PnX8xY2jweJVqOd8MvBk",
      "include_colab_link": true
    },
    "kernelspec": {
      "name": "python3",
      "display_name": "Python 3"
    },
    "language_info": {
      "name": "python"
    }
  },
  "cells": [
    {
      "cell_type": "markdown",
      "metadata": {
        "id": "view-in-github",
        "colab_type": "text"
      },
      "source": [
        "<a href=\"https://colab.research.google.com/github/Harshit-Raj-23/new-repo/blob/main/Python_1.ipynb\" target=\"_parent\"><img src=\"https://colab.research.google.com/assets/colab-badge.svg\" alt=\"Open In Colab\"/></a>"
      ]
    },
    {
      "cell_type": "markdown",
      "source": [
        "**Variables**"
      ],
      "metadata": {
        "id": "F6j7ioyT1E0k"
      }
    },
    {
      "cell_type": "markdown",
      "source": [
        "Defining a variable."
      ],
      "metadata": {
        "id": "irIHEKdr1LRf"
      }
    },
    {
      "cell_type": "code",
      "source": [
        "student = \"Harshit\""
      ],
      "metadata": {
        "id": "psiuIb3p1O4o"
      },
      "execution_count": null,
      "outputs": []
    },
    {
      "cell_type": "code",
      "source": [
        "print(\"Hello Students\")"
      ],
      "metadata": {
        "colab": {
          "base_uri": "https://localhost:8080/"
        },
        "id": "kN8-Ke2Z1T3m",
        "outputId": "0c0f3e63-2ba0-41bf-8693-05e2e6848a01"
      },
      "execution_count": 1,
      "outputs": [
        {
          "output_type": "stream",
          "name": "stdout",
          "text": [
            "Hello Students\n"
          ]
        }
      ]
    },
    {
      "cell_type": "code",
      "source": [
        "print(id(\"vishwa\"))"
      ],
      "metadata": {
        "colab": {
          "base_uri": "https://localhost:8080/"
        },
        "id": "nRsCsWZS1b4c",
        "outputId": "0c0e8385-feb3-4c0c-af6b-a4ea8fe3a0bc"
      },
      "execution_count": 2,
      "outputs": [
        {
          "output_type": "stream",
          "name": "stdout",
          "text": [
            "132202752012656\n"
          ]
        }
      ]
    },
    {
      "cell_type": "code",
      "source": [
        "5"
      ],
      "metadata": {
        "colab": {
          "base_uri": "https://localhost:8080/"
        },
        "id": "aFSxE8hQ1oeE",
        "outputId": "75640bff-d2d7-4df2-82a1-b44f06150d6f"
      },
      "execution_count": 3,
      "outputs": [
        {
          "output_type": "execute_result",
          "data": {
            "text/plain": [
              "5"
            ]
          },
          "metadata": {},
          "execution_count": 3
        }
      ]
    },
    {
      "cell_type": "code",
      "source": [
        "print(id(5))"
      ],
      "metadata": {
        "colab": {
          "base_uri": "https://localhost:8080/"
        },
        "id": "_HtzWO6z1wdn",
        "outputId": "6e0714d2-f697-4c01-df85-efe535d72e3b"
      },
      "execution_count": 4,
      "outputs": [
        {
          "output_type": "stream",
          "name": "stdout",
          "text": [
            "132203651858800\n"
          ]
        }
      ]
    },
    {
      "cell_type": "markdown",
      "source": [
        "How variables are stored in memory: id()"
      ],
      "metadata": {
        "id": "MSyqwYAi2kH_"
      }
    },
    {
      "cell_type": "markdown",
      "source": [
        "Multiple variable in a single line."
      ],
      "metadata": {
        "id": "pHcbS4XK2pJk"
      }
    },
    {
      "cell_type": "code",
      "source": [
        "a,b,c,d = 1,2,3,4\n",
        "print(c)"
      ],
      "metadata": {
        "colab": {
          "base_uri": "https://localhost:8080/"
        },
        "id": "2xzEZfiT2uFg",
        "outputId": "13c68c0a-ac7a-4a28-eede-c46d94ad968d"
      },
      "execution_count": 7,
      "outputs": [
        {
          "output_type": "stream",
          "name": "stdout",
          "text": [
            "3\n"
          ]
        }
      ]
    },
    {
      "cell_type": "markdown",
      "source": [
        "Name a variable : No special, No reservred"
      ],
      "metadata": {
        "id": "43lwuXIW256I"
      }
    },
    {
      "cell_type": "code",
      "source": [
        "help()"
      ],
      "metadata": {
        "colab": {
          "base_uri": "https://localhost:8080/"
        },
        "id": "1FUTAWwx4cCZ",
        "outputId": "9452bfd1-1c04-429f-a4d6-5187759047e5"
      },
      "execution_count": 8,
      "outputs": [
        {
          "output_type": "stream",
          "name": "stdout",
          "text": [
            "\n",
            "Welcome to Python 3.10's help utility!\n",
            "\n",
            "If this is your first time using Python, you should definitely check out\n",
            "the tutorial on the internet at https://docs.python.org/3.10/tutorial/.\n",
            "\n",
            "Enter the name of any module, keyword, or topic to get help on writing\n",
            "Python programs and using Python modules.  To quit this help utility and\n",
            "return to the interpreter, just type \"quit\".\n",
            "\n",
            "To get a list of available modules, keywords, symbols, or topics, type\n",
            "\"modules\", \"keywords\", \"symbols\", or \"topics\".  Each module also comes\n",
            "with a one-line summary of what it does; to list the modules whose name\n",
            "or summary contain a given string such as \"spam\", type \"modules spam\".\n",
            "\n",
            "help> keywords\n",
            "\n",
            "Here is a list of the Python keywords.  Enter any keyword to get more help.\n",
            "\n",
            "False               class               from                or\n",
            "None                continue            global              pass\n",
            "True                def                 if                  raise\n",
            "and                 del                 import              return\n",
            "as                  elif                in                  try\n",
            "assert              else                is                  while\n",
            "async               except              lambda              with\n",
            "await               finally             nonlocal            yield\n",
            "break               for                 not                 \n",
            "\n",
            "\n",
            "You are now leaving help and returning to the Python interpreter.\n",
            "If you want to ask for help on a particular object directly from the\n",
            "interpreter, you can type \"help(object)\".  Executing \"help('string')\"\n",
            "has the same effect as typing a particular string at the help> prompt.\n"
          ]
        }
      ]
    },
    {
      "cell_type": "code",
      "source": [
        "import1 = \"harshit\""
      ],
      "metadata": {
        "id": "xCg-7McF4rrG"
      },
      "execution_count": 12,
      "outputs": []
    },
    {
      "cell_type": "code",
      "source": [
        "name = \"Vishwa\""
      ],
      "metadata": {
        "id": "Ej1DKJj25AoB"
      },
      "execution_count": 10,
      "outputs": []
    },
    {
      "cell_type": "code",
      "source": [
        "Name = \"mohan\""
      ],
      "metadata": {
        "id": "xWtGFPMb5FOL"
      },
      "execution_count": 11,
      "outputs": []
    },
    {
      "cell_type": "markdown",
      "source": [
        "Identifiers Vs Variables"
      ],
      "metadata": {
        "id": "Ib2Rfm9W3DHP"
      }
    },
    {
      "cell_type": "markdown",
      "source": [
        "Casign style: snake case / camel case"
      ],
      "metadata": {
        "id": "D8vRTgjI5Yg2"
      }
    },
    {
      "cell_type": "code",
      "source": [
        "student_age = 18"
      ],
      "metadata": {
        "id": "MdE9lGQl5y1d"
      },
      "execution_count": 13,
      "outputs": []
    },
    {
      "cell_type": "code",
      "source": [
        "studentAge = 19"
      ],
      "metadata": {
        "id": "_7AUz_Dc6JU_"
      },
      "execution_count": 14,
      "outputs": []
    },
    {
      "cell_type": "markdown",
      "source": [
        "Indentation"
      ],
      "metadata": {
        "id": "A_WQZgne5oD_"
      }
    },
    {
      "cell_type": "code",
      "source": [
        "x = 5\n",
        "y = 7"
      ],
      "metadata": {
        "id": "3i5-i7Bo6fFO"
      },
      "execution_count": 17,
      "outputs": []
    },
    {
      "cell_type": "markdown",
      "source": [
        "Comments. # or \"comment"
      ],
      "metadata": {
        "id": "KcpcmBqQ6Sut"
      }
    },
    {
      "cell_type": "markdown",
      "source": [],
      "metadata": {
        "id": "D9ORKDLR9BBn"
      }
    },
    {
      "cell_type": "code",
      "source": [
        "#This is a commented line\n",
        "print(\"Hello World\")"
      ],
      "metadata": {
        "colab": {
          "base_uri": "https://localhost:8080/"
        },
        "id": "yEy8JFey858O",
        "outputId": "96b2710d-e7a1-4dad-e373-e4ffc496522a"
      },
      "execution_count": 18,
      "outputs": [
        {
          "output_type": "stream",
          "name": "stdout",
          "text": [
            "Hello World\n"
          ]
        }
      ]
    },
    {
      "cell_type": "code",
      "source": [
        "'''print(\"Hello1\")\n",
        "print(\"Hello2\")\n",
        "print(\"Hello3\")'''"
      ],
      "metadata": {
        "colab": {
          "base_uri": "https://localhost:8080/",
          "height": 35
        },
        "id": "_0HxGdMM9DwL",
        "outputId": "15b55de8-39d4-4107-fbb2-dcf72533c9aa"
      },
      "execution_count": 22,
      "outputs": [
        {
          "output_type": "execute_result",
          "data": {
            "text/plain": [
              "'print(\"Hello1\")\\nprint(\"Hello2\")\\nprint(\"Hello3\")'"
            ],
            "application/vnd.google.colaboratory.intrinsic+json": {
              "type": "string"
            }
          },
          "metadata": {},
          "execution_count": 22
        }
      ]
    },
    {
      "cell_type": "markdown",
      "source": [
        "In Python we can not use multiple line comment. When we use '''_''', it converts it to \"Doc String\"."
      ],
      "metadata": {
        "id": "72ZUiZ949hGb"
      }
    },
    {
      "cell_type": "markdown",
      "source": [
        "Double-click (or enter) to edit"
      ],
      "metadata": {
        "id": "8yeatKtp61n8"
      }
    },
    {
      "cell_type": "markdown",
      "source": [
        "Taking input in Python : input() -> returns String"
      ],
      "metadata": {
        "id": "NLCNIyYP7AP9"
      }
    },
    {
      "cell_type": "code",
      "source": [
        "input()"
      ],
      "metadata": {
        "colab": {
          "base_uri": "https://localhost:8080/",
          "height": 52
        },
        "id": "gj8ERDfu9vcG",
        "outputId": "6482ef59-e0ab-4f34-920a-f50c7edcfd0e"
      },
      "execution_count": 23,
      "outputs": [
        {
          "name": "stdout",
          "output_type": "stream",
          "text": [
            "Harshit\n"
          ]
        },
        {
          "output_type": "execute_result",
          "data": {
            "text/plain": [
              "'Harshit'"
            ],
            "application/vnd.google.colaboratory.intrinsic+json": {
              "type": "string"
            }
          },
          "metadata": {},
          "execution_count": 23
        }
      ]
    },
    {
      "cell_type": "code",
      "source": [
        "input()"
      ],
      "metadata": {
        "colab": {
          "base_uri": "https://localhost:8080/",
          "height": 52
        },
        "id": "MO2J-WHi-Fgq",
        "outputId": "b9a6b5b5-6cea-4ac6-fcbf-e90eaf7ebbcf"
      },
      "execution_count": 25,
      "outputs": [
        {
          "name": "stdout",
          "output_type": "stream",
          "text": [
            "5\n"
          ]
        },
        {
          "output_type": "execute_result",
          "data": {
            "text/plain": [
              "'5'"
            ],
            "application/vnd.google.colaboratory.intrinsic+json": {
              "type": "string"
            }
          },
          "metadata": {},
          "execution_count": 25
        }
      ]
    },
    {
      "cell_type": "code",
      "source": [
        "input()"
      ],
      "metadata": {
        "colab": {
          "base_uri": "https://localhost:8080/",
          "height": 52
        },
        "id": "RCVHyn02-IuG",
        "outputId": "31c758da-395c-4ff9-f4e0-4b311103af88"
      },
      "execution_count": 26,
      "outputs": [
        {
          "name": "stdout",
          "output_type": "stream",
          "text": [
            "True\n"
          ]
        },
        {
          "output_type": "execute_result",
          "data": {
            "text/plain": [
              "'True'"
            ],
            "application/vnd.google.colaboratory.intrinsic+json": {
              "type": "string"
            }
          },
          "metadata": {},
          "execution_count": 26
        }
      ]
    },
    {
      "cell_type": "code",
      "source": [
        "input(\"Please enter your name: \")"
      ],
      "metadata": {
        "colab": {
          "base_uri": "https://localhost:8080/",
          "height": 52
        },
        "id": "Epi5Rp2z-OKc",
        "outputId": "31e3ff9d-4a53-4065-ad3f-65184bda01ca"
      },
      "execution_count": 28,
      "outputs": [
        {
          "name": "stdout",
          "output_type": "stream",
          "text": [
            "Please enter your name: Harshit\n"
          ]
        },
        {
          "output_type": "execute_result",
          "data": {
            "text/plain": [
              "'Harshit'"
            ],
            "application/vnd.google.colaboratory.intrinsic+json": {
              "type": "string"
            }
          },
          "metadata": {},
          "execution_count": 28
        }
      ]
    },
    {
      "cell_type": "markdown",
      "source": [
        "Displaying output in Python"
      ],
      "metadata": {
        "id": "n1mrVllz91E6"
      }
    },
    {
      "cell_type": "code",
      "source": [
        "name = \"Harshit\"\n",
        "age = 19"
      ],
      "metadata": {
        "id": "oSZ1cbxc-ZBz"
      },
      "execution_count": 30,
      "outputs": []
    },
    {
      "cell_type": "code",
      "source": [
        "#combined printing\n",
        "print(\"My name is\", name, \"and my age is\", age)"
      ],
      "metadata": {
        "colab": {
          "base_uri": "https://localhost:8080/"
        },
        "id": "HTNtvcvj-Zv-",
        "outputId": "4af2a725-f5b3-4a77-d6fe-768be4fcd31c"
      },
      "execution_count": 32,
      "outputs": [
        {
          "output_type": "stream",
          "name": "stdout",
          "text": [
            "My name is Harshit and my age is 19\n"
          ]
        }
      ]
    },
    {
      "cell_type": "code",
      "source": [
        "#fstring printing\n",
        "print(f'My name is {name} and my age is {age}')"
      ],
      "metadata": {
        "colab": {
          "base_uri": "https://localhost:8080/"
        },
        "id": "MRX8h069--TG",
        "outputId": "a5a2d896-49c9-4d97-cf03-759a7a498eed"
      },
      "execution_count": 33,
      "outputs": [
        {
          "output_type": "stream",
          "name": "stdout",
          "text": [
            "My name is Harshit and my age is 19\n"
          ]
        }
      ]
    },
    {
      "cell_type": "code",
      "source": [
        "#format method for string formatting\n",
        "print(\"My name is {} and my age is {}.\".format(name, age))"
      ],
      "metadata": {
        "colab": {
          "base_uri": "https://localhost:8080/"
        },
        "id": "OV4jzVyK_JFO",
        "outputId": "465e1505-ecf4-4695-a05b-99e1cd022dae"
      },
      "execution_count": 35,
      "outputs": [
        {
          "output_type": "stream",
          "name": "stdout",
          "text": [
            "My name is Harshit and my age is 19.\n"
          ]
        }
      ]
    },
    {
      "cell_type": "code",
      "source": [
        "#printing with separator\n",
        "print(name, age, sep=\";\")"
      ],
      "metadata": {
        "colab": {
          "base_uri": "https://localhost:8080/"
        },
        "id": "-3AvN9HL_rY9",
        "outputId": "aaf148df-993e-4f96-e85f-4fdbd5cb5414"
      },
      "execution_count": 41,
      "outputs": [
        {
          "output_type": "stream",
          "name": "stdout",
          "text": [
            "Harshit;19\n"
          ]
        }
      ]
    },
    {
      "cell_type": "code",
      "source": [
        "#printing on the same line\n",
        "print(1, end=\",\")\n",
        "print(2, end=\",\")\n",
        "print(3)"
      ],
      "metadata": {
        "colab": {
          "base_uri": "https://localhost:8080/"
        },
        "id": "JWqWmV9_AOqf",
        "outputId": "a4203156-a39c-43ce-c209-2431da5dcd9e"
      },
      "execution_count": 44,
      "outputs": [
        {
          "output_type": "stream",
          "name": "stdout",
          "text": [
            "1,2,3\n"
          ]
        }
      ]
    }
  ]
}